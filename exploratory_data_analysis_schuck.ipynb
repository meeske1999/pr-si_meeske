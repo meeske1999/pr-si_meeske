{
 "cells": [
  {
   "cell_type": "code",
   "execution_count": 36,
   "id": "2d0d465a",
   "metadata": {},
   "outputs": [],
   "source": [
    "import pandas as pd  \n",
    "import matplotlib.pyplot as plt \n",
    "import seaborn as sns \n",
    "import plotly.express as px\n",
    "import statsmodels.formula.api as smf"
   ]
  },
  {
   "cell_type": "code",
   "execution_count": 37,
   "id": "86bcf8a6",
   "metadata": {
    "scrolled": false
   },
   "outputs": [
    {
     "data": {
      "text/html": [
       "<div>\n",
       "<style scoped>\n",
       "    .dataframe tbody tr th:only-of-type {\n",
       "        vertical-align: middle;\n",
       "    }\n",
       "\n",
       "    .dataframe tbody tr th {\n",
       "        vertical-align: top;\n",
       "    }\n",
       "\n",
       "    .dataframe thead th {\n",
       "        text-align: right;\n",
       "    }\n",
       "</style>\n",
       "<table border=\"1\" class=\"dataframe\">\n",
       "  <thead>\n",
       "    <tr style=\"text-align: right;\">\n",
       "      <th></th>\n",
       "      <th>Alter</th>\n",
       "      <th>Einkommen</th>\n",
       "      <th>Preis</th>\n",
       "      <th>Geschlecht</th>\n",
       "      <th>Zeit</th>\n",
       "      <th>KundeNr</th>\n",
       "      <th>Niederlassung</th>\n",
       "    </tr>\n",
       "  </thead>\n",
       "  <tbody>\n",
       "    <tr>\n",
       "      <th>0</th>\n",
       "      <td>64</td>\n",
       "      <td>66894.0</td>\n",
       "      <td>88160.31</td>\n",
       "      <td>1.0</td>\n",
       "      <td>43.0</td>\n",
       "      <td>K0310</td>\n",
       "      <td>Bayern</td>\n",
       "    </tr>\n",
       "    <tr>\n",
       "      <th>1</th>\n",
       "      <td>54</td>\n",
       "      <td>77644.0</td>\n",
       "      <td>103145.70</td>\n",
       "      <td>1.0</td>\n",
       "      <td>40.0</td>\n",
       "      <td>K1042</td>\n",
       "      <td>Berlin</td>\n",
       "    </tr>\n",
       "    <tr>\n",
       "      <th>2</th>\n",
       "      <td>55</td>\n",
       "      <td>44341.0</td>\n",
       "      <td>80565.16</td>\n",
       "      <td>0.0</td>\n",
       "      <td>37.0</td>\n",
       "      <td>K0382</td>\n",
       "      <td>Baden-Württemberg</td>\n",
       "    </tr>\n",
       "    <tr>\n",
       "      <th>3</th>\n",
       "      <td>49</td>\n",
       "      <td>67271.0</td>\n",
       "      <td>83949.89</td>\n",
       "      <td>0.0</td>\n",
       "      <td>42.0</td>\n",
       "      <td>K0498</td>\n",
       "      <td>Bayern</td>\n",
       "    </tr>\n",
       "    <tr>\n",
       "      <th>4</th>\n",
       "      <td>46</td>\n",
       "      <td>49832.0</td>\n",
       "      <td>93781.58</td>\n",
       "      <td>0.0</td>\n",
       "      <td>41.0</td>\n",
       "      <td>K0552</td>\n",
       "      <td>Hessen</td>\n",
       "    </tr>\n",
       "  </tbody>\n",
       "</table>\n",
       "</div>"
      ],
      "text/plain": [
       "   Alter  Einkommen      Preis  Geschlecht  Zeit KundeNr      Niederlassung\n",
       "0     64    66894.0   88160.31         1.0  43.0   K0310             Bayern\n",
       "1     54    77644.0  103145.70         1.0  40.0   K1042             Berlin\n",
       "2     55    44341.0   80565.16         0.0  37.0   K0382  Baden-Württemberg\n",
       "3     49    67271.0   83949.89         0.0  42.0   K0498             Bayern\n",
       "4     46    49832.0   93781.58         0.0  41.0   K0552             Hessen"
      ]
     },
     "execution_count": 37,
     "metadata": {},
     "output_type": "execute_result"
    }
   ],
   "source": [
    "df = pd.read_csv(\"data/df_final.csv\")\n",
    "df.head()"
   ]
  },
  {
   "cell_type": "code",
   "execution_count": 38,
   "id": "59e52846",
   "metadata": {},
   "outputs": [
    {
     "data": {
      "text/plain": [
       "(1995, 7)"
      ]
     },
     "execution_count": 38,
     "metadata": {},
     "output_type": "execute_result"
    }
   ],
   "source": [
    "df.shape"
   ]
  },
  {
   "cell_type": "markdown",
   "id": "199f901b",
   "metadata": {},
   "source": [
    "#  6. Haben mehr Frauen oder mehr Männer unsere Autos gekauft? "
   ]
  },
  {
   "cell_type": "markdown",
   "id": "dd57f0af",
   "metadata": {},
   "source": [
    "Filtern nach Daten, die einen Preis > 0 haben um nur die Kunden zu berücksichtigen, die ein Auto gekauft haben"
   ]
  },
  {
   "cell_type": "code",
   "execution_count": 39,
   "id": "b40a253c",
   "metadata": {},
   "outputs": [
    {
     "data": {
      "text/html": [
       "<div>\n",
       "<style scoped>\n",
       "    .dataframe tbody tr th:only-of-type {\n",
       "        vertical-align: middle;\n",
       "    }\n",
       "\n",
       "    .dataframe tbody tr th {\n",
       "        vertical-align: top;\n",
       "    }\n",
       "\n",
       "    .dataframe thead th {\n",
       "        text-align: right;\n",
       "    }\n",
       "</style>\n",
       "<table border=\"1\" class=\"dataframe\">\n",
       "  <thead>\n",
       "    <tr style=\"text-align: right;\">\n",
       "      <th></th>\n",
       "      <th>Alter</th>\n",
       "      <th>Einkommen</th>\n",
       "      <th>Preis</th>\n",
       "      <th>Geschlecht</th>\n",
       "      <th>Zeit</th>\n",
       "      <th>KundeNr</th>\n",
       "      <th>Niederlassung</th>\n",
       "    </tr>\n",
       "  </thead>\n",
       "  <tbody>\n",
       "    <tr>\n",
       "      <th>0</th>\n",
       "      <td>64</td>\n",
       "      <td>66894.0</td>\n",
       "      <td>88160.31</td>\n",
       "      <td>1.0</td>\n",
       "      <td>43.0</td>\n",
       "      <td>K0310</td>\n",
       "      <td>Bayern</td>\n",
       "    </tr>\n",
       "    <tr>\n",
       "      <th>1</th>\n",
       "      <td>54</td>\n",
       "      <td>77644.0</td>\n",
       "      <td>103145.70</td>\n",
       "      <td>1.0</td>\n",
       "      <td>40.0</td>\n",
       "      <td>K1042</td>\n",
       "      <td>Berlin</td>\n",
       "    </tr>\n",
       "    <tr>\n",
       "      <th>2</th>\n",
       "      <td>55</td>\n",
       "      <td>44341.0</td>\n",
       "      <td>80565.16</td>\n",
       "      <td>0.0</td>\n",
       "      <td>37.0</td>\n",
       "      <td>K0382</td>\n",
       "      <td>Baden-Württemberg</td>\n",
       "    </tr>\n",
       "    <tr>\n",
       "      <th>3</th>\n",
       "      <td>49</td>\n",
       "      <td>67271.0</td>\n",
       "      <td>83949.89</td>\n",
       "      <td>0.0</td>\n",
       "      <td>42.0</td>\n",
       "      <td>K0498</td>\n",
       "      <td>Bayern</td>\n",
       "    </tr>\n",
       "    <tr>\n",
       "      <th>4</th>\n",
       "      <td>46</td>\n",
       "      <td>49832.0</td>\n",
       "      <td>93781.58</td>\n",
       "      <td>0.0</td>\n",
       "      <td>41.0</td>\n",
       "      <td>K0552</td>\n",
       "      <td>Hessen</td>\n",
       "    </tr>\n",
       "    <tr>\n",
       "      <th>...</th>\n",
       "      <td>...</td>\n",
       "      <td>...</td>\n",
       "      <td>...</td>\n",
       "      <td>...</td>\n",
       "      <td>...</td>\n",
       "      <td>...</td>\n",
       "      <td>...</td>\n",
       "    </tr>\n",
       "    <tr>\n",
       "      <th>1099</th>\n",
       "      <td>70</td>\n",
       "      <td>69581.0</td>\n",
       "      <td>103751.58</td>\n",
       "      <td>1.0</td>\n",
       "      <td>51.0</td>\n",
       "      <td>K0467</td>\n",
       "      <td>Thüringen</td>\n",
       "    </tr>\n",
       "    <tr>\n",
       "      <th>1100</th>\n",
       "      <td>38</td>\n",
       "      <td>48301.0</td>\n",
       "      <td>64230.98</td>\n",
       "      <td>1.0</td>\n",
       "      <td>33.0</td>\n",
       "      <td>K0122</td>\n",
       "      <td>Niedersachsen</td>\n",
       "    </tr>\n",
       "    <tr>\n",
       "      <th>1101</th>\n",
       "      <td>67</td>\n",
       "      <td>63547.0</td>\n",
       "      <td>103123.57</td>\n",
       "      <td>1.0</td>\n",
       "      <td>41.0</td>\n",
       "      <td>K1045</td>\n",
       "      <td>Berlin</td>\n",
       "    </tr>\n",
       "    <tr>\n",
       "      <th>1102</th>\n",
       "      <td>37</td>\n",
       "      <td>32686.0</td>\n",
       "      <td>49215.87</td>\n",
       "      <td>1.0</td>\n",
       "      <td>36.0</td>\n",
       "      <td>K1096</td>\n",
       "      <td>Baden-Württemberg</td>\n",
       "    </tr>\n",
       "    <tr>\n",
       "      <th>1103</th>\n",
       "      <td>55</td>\n",
       "      <td>71240.0</td>\n",
       "      <td>106132.59</td>\n",
       "      <td>1.0</td>\n",
       "      <td>49.0</td>\n",
       "      <td>K0861</td>\n",
       "      <td>Bayern</td>\n",
       "    </tr>\n",
       "  </tbody>\n",
       "</table>\n",
       "<p>1104 rows × 7 columns</p>\n",
       "</div>"
      ],
      "text/plain": [
       "      Alter  Einkommen      Preis  Geschlecht  Zeit KundeNr      Niederlassung\n",
       "0        64    66894.0   88160.31         1.0  43.0   K0310             Bayern\n",
       "1        54    77644.0  103145.70         1.0  40.0   K1042             Berlin\n",
       "2        55    44341.0   80565.16         0.0  37.0   K0382  Baden-Württemberg\n",
       "3        49    67271.0   83949.89         0.0  42.0   K0498             Bayern\n",
       "4        46    49832.0   93781.58         0.0  41.0   K0552             Hessen\n",
       "...     ...        ...        ...         ...   ...     ...                ...\n",
       "1099     70    69581.0  103751.58         1.0  51.0   K0467          Thüringen\n",
       "1100     38    48301.0   64230.98         1.0  33.0   K0122      Niedersachsen\n",
       "1101     67    63547.0  103123.57         1.0  41.0   K1045             Berlin\n",
       "1102     37    32686.0   49215.87         1.0  36.0   K1096  Baden-Württemberg\n",
       "1103     55    71240.0  106132.59         1.0  49.0   K0861             Bayern\n",
       "\n",
       "[1104 rows x 7 columns]"
      ]
     },
     "execution_count": 39,
     "metadata": {},
     "output_type": "execute_result"
    }
   ],
   "source": [
    "df_käufer = df[df[\"Preis\"] > 0]\n",
    "df_käufer"
   ]
  },
  {
   "cell_type": "markdown",
   "id": "a609878b",
   "metadata": {},
   "source": [
    "Anschließend wird die Anzahl der Frauen ( Geschlecht = 0) im Datensatz ausgezählt"
   ]
  },
  {
   "cell_type": "code",
   "execution_count": 40,
   "id": "735314b3",
   "metadata": {
    "scrolled": false
   },
   "outputs": [],
   "source": [
    "df_käufer_w = df_käufer[df_käufer['Geschlecht']==0]"
   ]
  },
  {
   "cell_type": "code",
   "execution_count": 41,
   "id": "dbcb6b06",
   "metadata": {},
   "outputs": [
    {
     "data": {
      "text/plain": [
       "398"
      ]
     },
     "execution_count": 41,
     "metadata": {},
     "output_type": "execute_result"
    }
   ],
   "source": [
    "df_käufer_w['Geschlecht'].count()"
   ]
  },
  {
   "cell_type": "markdown",
   "id": "458ef01e",
   "metadata": {},
   "source": [
    "Danach wird die Anzahl der Männer ( Geschlecht = 1) im Datensatz ausgezählt"
   ]
  },
  {
   "cell_type": "code",
   "execution_count": 42,
   "id": "207025ee",
   "metadata": {},
   "outputs": [],
   "source": [
    "df_käufer_m = df_käufer[df_käufer['Geschlecht']==1]"
   ]
  },
  {
   "cell_type": "code",
   "execution_count": 43,
   "id": "f570aa74",
   "metadata": {},
   "outputs": [
    {
     "data": {
      "text/plain": [
       "706"
      ]
     },
     "execution_count": 43,
     "metadata": {},
     "output_type": "execute_result"
    }
   ],
   "source": [
    "df_käufer_m['Geschlecht'].count()"
   ]
  },
  {
   "cell_type": "markdown",
   "id": "d5bdd1b1",
   "metadata": {},
   "source": [
    "# 7. Wie hoch ist das Durchschnittsalter unserer Kunden? "
   ]
  },
  {
   "cell_type": "markdown",
   "id": "3b12bf8a",
   "metadata": {},
   "source": [
    "Zurückgreifen auf die Personen die einen Kauf getätigt haben (Kaufpreis > 0)"
   ]
  },
  {
   "cell_type": "code",
   "execution_count": 44,
   "id": "53feb07e",
   "metadata": {},
   "outputs": [
    {
     "data": {
      "text/plain": [
       "50.38"
      ]
     },
     "execution_count": 44,
     "metadata": {},
     "output_type": "execute_result"
    }
   ],
   "source": [
    "df_käufer[\"Alter\"].mean().round(2)"
   ]
  },
  {
   "cell_type": "markdown",
   "id": "3ab544be",
   "metadata": {},
   "source": [
    "# 8. Wie hoch ist das Durchschnittsalter der Besucher in unseren Showrooms? \n"
   ]
  },
  {
   "cell_type": "markdown",
   "id": "8528d703",
   "metadata": {},
   "source": [
    "Zunächst werden die Besucher von den Käufern isoliert (Kaufpreis = 0)"
   ]
  },
  {
   "cell_type": "code",
   "execution_count": 45,
   "id": "836075ad",
   "metadata": {},
   "outputs": [],
   "source": [
    "df_besucher = df[df['Preis']==0]"
   ]
  },
  {
   "cell_type": "markdown",
   "id": "42f17bd5",
   "metadata": {},
   "source": [
    "Nun kann das Durchsnittsalter der Besucher errechnet werden:"
   ]
  },
  {
   "cell_type": "code",
   "execution_count": 46,
   "id": "f9cb616a",
   "metadata": {},
   "outputs": [
    {
     "data": {
      "text/plain": [
       "49.88"
      ]
     },
     "execution_count": 46,
     "metadata": {},
     "output_type": "execute_result"
    }
   ],
   "source": [
    "df_besucher['Alter'].mean().round(2)"
   ]
  },
  {
   "cell_type": "markdown",
   "id": "be550d23",
   "metadata": {},
   "source": [
    "# 9. Was ist das Durchschnittsalter unserer männlichen Kunden?"
   ]
  },
  {
   "cell_type": "code",
   "execution_count": 47,
   "id": "ba925047",
   "metadata": {},
   "outputs": [
    {
     "data": {
      "text/plain": [
       "50.47"
      ]
     },
     "execution_count": 47,
     "metadata": {},
     "output_type": "execute_result"
    }
   ],
   "source": [
    "df_käufer_m['Alter'].mean().round(2)"
   ]
  },
  {
   "cell_type": "markdown",
   "id": "84b8a49c",
   "metadata": {},
   "source": [
    "# 13. Wie viele Kunden haben keinen Kredit bei der Bank genommen, um das Auto zu kaufen? Die Kundenabteilung hat vergessen, diese Informationen zu sammeln. Wir können davon ausgehen, dass die Kunden mit einem Jahreseinkommen, das höher als der Autopreis ist, keinen Bankkredit benötigten"
   ]
  },
  {
   "cell_type": "markdown",
   "id": "fbbdbd07",
   "metadata": {},
   "source": [
    "Der dataframe wird so mainpuliert, dass nur die Datensätze enthalten bleiben, für die zutrifft, dass das Einkommen des Kunden größer als der gezahlte Preis des Autos ist. "
   ]
  },
  {
   "cell_type": "code",
   "execution_count": 48,
   "id": "6d3f873a",
   "metadata": {},
   "outputs": [],
   "source": [
    "df_käufer_kein_kredit = df_käufer[df_käufer['Einkommen'] > df_käufer['Preis']]"
   ]
  },
  {
   "cell_type": "code",
   "execution_count": 49,
   "id": "01d9bd84",
   "metadata": {},
   "outputs": [
    {
     "data": {
      "text/html": [
       "<div>\n",
       "<style scoped>\n",
       "    .dataframe tbody tr th:only-of-type {\n",
       "        vertical-align: middle;\n",
       "    }\n",
       "\n",
       "    .dataframe tbody tr th {\n",
       "        vertical-align: top;\n",
       "    }\n",
       "\n",
       "    .dataframe thead th {\n",
       "        text-align: right;\n",
       "    }\n",
       "</style>\n",
       "<table border=\"1\" class=\"dataframe\">\n",
       "  <thead>\n",
       "    <tr style=\"text-align: right;\">\n",
       "      <th></th>\n",
       "      <th>Alter</th>\n",
       "      <th>Einkommen</th>\n",
       "      <th>Preis</th>\n",
       "      <th>Geschlecht</th>\n",
       "      <th>Zeit</th>\n",
       "      <th>KundeNr</th>\n",
       "      <th>Niederlassung</th>\n",
       "    </tr>\n",
       "  </thead>\n",
       "  <tbody>\n",
       "    <tr>\n",
       "      <th>157</th>\n",
       "      <td>32</td>\n",
       "      <td>50330.0</td>\n",
       "      <td>49540.28</td>\n",
       "      <td>1.0</td>\n",
       "      <td>27.0</td>\n",
       "      <td>K0175</td>\n",
       "      <td>Bayern</td>\n",
       "    </tr>\n",
       "    <tr>\n",
       "      <th>407</th>\n",
       "      <td>34</td>\n",
       "      <td>24264.0</td>\n",
       "      <td>22580.44</td>\n",
       "      <td>1.0</td>\n",
       "      <td>19.0</td>\n",
       "      <td>K0859</td>\n",
       "      <td>Berlin</td>\n",
       "    </tr>\n",
       "    <tr>\n",
       "      <th>499</th>\n",
       "      <td>37</td>\n",
       "      <td>54403.0</td>\n",
       "      <td>53690.36</td>\n",
       "      <td>0.0</td>\n",
       "      <td>47.0</td>\n",
       "      <td>K0364</td>\n",
       "      <td>Brandenburg</td>\n",
       "    </tr>\n",
       "    <tr>\n",
       "      <th>642</th>\n",
       "      <td>32</td>\n",
       "      <td>30856.0</td>\n",
       "      <td>27934.83</td>\n",
       "      <td>1.0</td>\n",
       "      <td>18.0</td>\n",
       "      <td>K0447</td>\n",
       "      <td>Nordrhein-Westfalen</td>\n",
       "    </tr>\n",
       "    <tr>\n",
       "      <th>696</th>\n",
       "      <td>31</td>\n",
       "      <td>36296.0</td>\n",
       "      <td>35482.61</td>\n",
       "      <td>0.0</td>\n",
       "      <td>31.0</td>\n",
       "      <td>K0143</td>\n",
       "      <td>Nordrhein-Westfalen</td>\n",
       "    </tr>\n",
       "  </tbody>\n",
       "</table>\n",
       "</div>"
      ],
      "text/plain": [
       "     Alter  Einkommen     Preis  Geschlecht  Zeit KundeNr        Niederlassung\n",
       "157     32    50330.0  49540.28         1.0  27.0   K0175               Bayern\n",
       "407     34    24264.0  22580.44         1.0  19.0   K0859               Berlin\n",
       "499     37    54403.0  53690.36         0.0  47.0   K0364          Brandenburg\n",
       "642     32    30856.0  27934.83         1.0  18.0   K0447  Nordrhein-Westfalen\n",
       "696     31    36296.0  35482.61         0.0  31.0   K0143  Nordrhein-Westfalen"
      ]
     },
     "execution_count": 49,
     "metadata": {},
     "output_type": "execute_result"
    }
   ],
   "source": [
    "df_käufer_kein_kredit"
   ]
  },
  {
   "cell_type": "code",
   "execution_count": 50,
   "id": "699007b9",
   "metadata": {},
   "outputs": [
    {
     "data": {
      "text/plain": [
       "5"
      ]
     },
     "execution_count": 50,
     "metadata": {},
     "output_type": "execute_result"
    }
   ],
   "source": [
    "df_käufer_kein_kredit['KundeNr'].count()"
   ]
  },
  {
   "cell_type": "markdown",
   "id": "8d4685dd",
   "metadata": {},
   "source": [
    "# 17. Schätzen Sie eine Regression, die die Wahrscheinlichkeit des Kaufs eines Autos ermittelt. Verwenden Sie die entsprechende Methode"
   ]
  },
  {
   "cell_type": "markdown",
   "id": "32c97a9f",
   "metadata": {},
   "source": [
    "Die Kaufwahrscheinlichkeit wird beeinflusst durch Folgende Faktoren: \n",
    "\n",
    "-Alter\n",
    "\n",
    "-Geschlecht\n",
    "\n",
    "-Einkommen\n",
    "\n",
    "-Zeit\n",
    "\n",
    "Diese bilden die unabhängigen Variablen, welche mit einer logistischen Regression auf den Einfluss auf die Kaufwahrscheinlichkeit geprüft werden sollen."
   ]
  },
  {
   "cell_type": "markdown",
   "id": "e68c9755",
   "metadata": {},
   "source": [
    "Zunächst wird die Spalte 'Gekauft' eingeführt, um zu messen ob der Kunde das Auto gekauft hat wobei 1 gekauft und 0 nicht gekauft bedeutet"
   ]
  },
  {
   "cell_type": "code",
   "execution_count": 51,
   "id": "33a8a9b2",
   "metadata": {},
   "outputs": [
    {
     "data": {
      "text/html": [
       "<div>\n",
       "<style scoped>\n",
       "    .dataframe tbody tr th:only-of-type {\n",
       "        vertical-align: middle;\n",
       "    }\n",
       "\n",
       "    .dataframe tbody tr th {\n",
       "        vertical-align: top;\n",
       "    }\n",
       "\n",
       "    .dataframe thead th {\n",
       "        text-align: right;\n",
       "    }\n",
       "</style>\n",
       "<table border=\"1\" class=\"dataframe\">\n",
       "  <thead>\n",
       "    <tr style=\"text-align: right;\">\n",
       "      <th></th>\n",
       "      <th>Preis</th>\n",
       "    </tr>\n",
       "  </thead>\n",
       "  <tbody>\n",
       "    <tr>\n",
       "      <th>0</th>\n",
       "      <td>True</td>\n",
       "    </tr>\n",
       "    <tr>\n",
       "      <th>1</th>\n",
       "      <td>True</td>\n",
       "    </tr>\n",
       "    <tr>\n",
       "      <th>2</th>\n",
       "      <td>True</td>\n",
       "    </tr>\n",
       "    <tr>\n",
       "      <th>3</th>\n",
       "      <td>True</td>\n",
       "    </tr>\n",
       "    <tr>\n",
       "      <th>4</th>\n",
       "      <td>True</td>\n",
       "    </tr>\n",
       "    <tr>\n",
       "      <th>...</th>\n",
       "      <td>...</td>\n",
       "    </tr>\n",
       "    <tr>\n",
       "      <th>1990</th>\n",
       "      <td>False</td>\n",
       "    </tr>\n",
       "    <tr>\n",
       "      <th>1991</th>\n",
       "      <td>False</td>\n",
       "    </tr>\n",
       "    <tr>\n",
       "      <th>1992</th>\n",
       "      <td>False</td>\n",
       "    </tr>\n",
       "    <tr>\n",
       "      <th>1993</th>\n",
       "      <td>False</td>\n",
       "    </tr>\n",
       "    <tr>\n",
       "      <th>1994</th>\n",
       "      <td>False</td>\n",
       "    </tr>\n",
       "  </tbody>\n",
       "</table>\n",
       "<p>1995 rows × 1 columns</p>\n",
       "</div>"
      ],
      "text/plain": [
       "      Preis\n",
       "0      True\n",
       "1      True\n",
       "2      True\n",
       "3      True\n",
       "4      True\n",
       "...     ...\n",
       "1990  False\n",
       "1991  False\n",
       "1992  False\n",
       "1993  False\n",
       "1994  False\n",
       "\n",
       "[1995 rows x 1 columns]"
      ]
     },
     "execution_count": 51,
     "metadata": {},
     "output_type": "execute_result"
    }
   ],
   "source": [
    "df_gekauft = df[['Preis']]>0\n",
    "df_gekauft"
   ]
  },
  {
   "cell_type": "code",
   "execution_count": 52,
   "id": "cfe5501b",
   "metadata": {},
   "outputs": [
    {
     "data": {
      "text/html": [
       "<div>\n",
       "<style scoped>\n",
       "    .dataframe tbody tr th:only-of-type {\n",
       "        vertical-align: middle;\n",
       "    }\n",
       "\n",
       "    .dataframe tbody tr th {\n",
       "        vertical-align: top;\n",
       "    }\n",
       "\n",
       "    .dataframe thead th {\n",
       "        text-align: right;\n",
       "    }\n",
       "</style>\n",
       "<table border=\"1\" class=\"dataframe\">\n",
       "  <thead>\n",
       "    <tr style=\"text-align: right;\">\n",
       "      <th></th>\n",
       "      <th>Gekauft</th>\n",
       "    </tr>\n",
       "  </thead>\n",
       "  <tbody>\n",
       "    <tr>\n",
       "      <th>0</th>\n",
       "      <td>True</td>\n",
       "    </tr>\n",
       "    <tr>\n",
       "      <th>1</th>\n",
       "      <td>True</td>\n",
       "    </tr>\n",
       "    <tr>\n",
       "      <th>2</th>\n",
       "      <td>True</td>\n",
       "    </tr>\n",
       "    <tr>\n",
       "      <th>3</th>\n",
       "      <td>True</td>\n",
       "    </tr>\n",
       "    <tr>\n",
       "      <th>4</th>\n",
       "      <td>True</td>\n",
       "    </tr>\n",
       "    <tr>\n",
       "      <th>...</th>\n",
       "      <td>...</td>\n",
       "    </tr>\n",
       "    <tr>\n",
       "      <th>1990</th>\n",
       "      <td>False</td>\n",
       "    </tr>\n",
       "    <tr>\n",
       "      <th>1991</th>\n",
       "      <td>False</td>\n",
       "    </tr>\n",
       "    <tr>\n",
       "      <th>1992</th>\n",
       "      <td>False</td>\n",
       "    </tr>\n",
       "    <tr>\n",
       "      <th>1993</th>\n",
       "      <td>False</td>\n",
       "    </tr>\n",
       "    <tr>\n",
       "      <th>1994</th>\n",
       "      <td>False</td>\n",
       "    </tr>\n",
       "  </tbody>\n",
       "</table>\n",
       "<p>1995 rows × 1 columns</p>\n",
       "</div>"
      ],
      "text/plain": [
       "      Gekauft\n",
       "0        True\n",
       "1        True\n",
       "2        True\n",
       "3        True\n",
       "4        True\n",
       "...       ...\n",
       "1990    False\n",
       "1991    False\n",
       "1992    False\n",
       "1993    False\n",
       "1994    False\n",
       "\n",
       "[1995 rows x 1 columns]"
      ]
     },
     "execution_count": 52,
     "metadata": {},
     "output_type": "execute_result"
    }
   ],
   "source": [
    "df_gekauft.columns = ['Gekauft']\n",
    "df_gekauft"
   ]
  },
  {
   "cell_type": "code",
   "execution_count": 53,
   "id": "459964bc",
   "metadata": {},
   "outputs": [],
   "source": [
    "df_gekauft_int = df_gekauft[[\"Gekauft\"]].astype(int)"
   ]
  },
  {
   "cell_type": "code",
   "execution_count": 54,
   "id": "6a7a2017",
   "metadata": {
    "scrolled": true
   },
   "outputs": [
    {
     "data": {
      "text/html": [
       "<div>\n",
       "<style scoped>\n",
       "    .dataframe tbody tr th:only-of-type {\n",
       "        vertical-align: middle;\n",
       "    }\n",
       "\n",
       "    .dataframe tbody tr th {\n",
       "        vertical-align: top;\n",
       "    }\n",
       "\n",
       "    .dataframe thead th {\n",
       "        text-align: right;\n",
       "    }\n",
       "</style>\n",
       "<table border=\"1\" class=\"dataframe\">\n",
       "  <thead>\n",
       "    <tr style=\"text-align: right;\">\n",
       "      <th></th>\n",
       "      <th>Gekauft</th>\n",
       "    </tr>\n",
       "  </thead>\n",
       "  <tbody>\n",
       "    <tr>\n",
       "      <th>0</th>\n",
       "      <td>1</td>\n",
       "    </tr>\n",
       "    <tr>\n",
       "      <th>1</th>\n",
       "      <td>1</td>\n",
       "    </tr>\n",
       "    <tr>\n",
       "      <th>2</th>\n",
       "      <td>1</td>\n",
       "    </tr>\n",
       "    <tr>\n",
       "      <th>3</th>\n",
       "      <td>1</td>\n",
       "    </tr>\n",
       "    <tr>\n",
       "      <th>4</th>\n",
       "      <td>1</td>\n",
       "    </tr>\n",
       "    <tr>\n",
       "      <th>...</th>\n",
       "      <td>...</td>\n",
       "    </tr>\n",
       "    <tr>\n",
       "      <th>1990</th>\n",
       "      <td>0</td>\n",
       "    </tr>\n",
       "    <tr>\n",
       "      <th>1991</th>\n",
       "      <td>0</td>\n",
       "    </tr>\n",
       "    <tr>\n",
       "      <th>1992</th>\n",
       "      <td>0</td>\n",
       "    </tr>\n",
       "    <tr>\n",
       "      <th>1993</th>\n",
       "      <td>0</td>\n",
       "    </tr>\n",
       "    <tr>\n",
       "      <th>1994</th>\n",
       "      <td>0</td>\n",
       "    </tr>\n",
       "  </tbody>\n",
       "</table>\n",
       "<p>1995 rows × 1 columns</p>\n",
       "</div>"
      ],
      "text/plain": [
       "      Gekauft\n",
       "0           1\n",
       "1           1\n",
       "2           1\n",
       "3           1\n",
       "4           1\n",
       "...       ...\n",
       "1990        0\n",
       "1991        0\n",
       "1992        0\n",
       "1993        0\n",
       "1994        0\n",
       "\n",
       "[1995 rows x 1 columns]"
      ]
     },
     "execution_count": 54,
     "metadata": {},
     "output_type": "execute_result"
    }
   ],
   "source": [
    "df_gekauft_int"
   ]
  },
  {
   "cell_type": "code",
   "execution_count": 55,
   "id": "8abc87e4",
   "metadata": {},
   "outputs": [],
   "source": [
    "df_linear_regression = pd.concat([df, df_gekauft_int], axis = 1)"
   ]
  },
  {
   "cell_type": "markdown",
   "id": "c6b9e593",
   "metadata": {},
   "source": [
    "Nun soll geprüft werden ob die neue Spalte richtig hinzugefügt wurde"
   ]
  },
  {
   "cell_type": "code",
   "execution_count": 56,
   "id": "1ca6c4a6",
   "metadata": {},
   "outputs": [
    {
     "data": {
      "text/html": [
       "<div>\n",
       "<style scoped>\n",
       "    .dataframe tbody tr th:only-of-type {\n",
       "        vertical-align: middle;\n",
       "    }\n",
       "\n",
       "    .dataframe tbody tr th {\n",
       "        vertical-align: top;\n",
       "    }\n",
       "\n",
       "    .dataframe thead th {\n",
       "        text-align: right;\n",
       "    }\n",
       "</style>\n",
       "<table border=\"1\" class=\"dataframe\">\n",
       "  <thead>\n",
       "    <tr style=\"text-align: right;\">\n",
       "      <th></th>\n",
       "      <th>Alter</th>\n",
       "      <th>Einkommen</th>\n",
       "      <th>Preis</th>\n",
       "      <th>Geschlecht</th>\n",
       "      <th>Zeit</th>\n",
       "      <th>KundeNr</th>\n",
       "      <th>Niederlassung</th>\n",
       "      <th>Gekauft</th>\n",
       "    </tr>\n",
       "  </thead>\n",
       "  <tbody>\n",
       "    <tr>\n",
       "      <th>0</th>\n",
       "      <td>64</td>\n",
       "      <td>66894.0</td>\n",
       "      <td>88160.31</td>\n",
       "      <td>1.0</td>\n",
       "      <td>43.0</td>\n",
       "      <td>K0310</td>\n",
       "      <td>Bayern</td>\n",
       "      <td>1</td>\n",
       "    </tr>\n",
       "    <tr>\n",
       "      <th>1</th>\n",
       "      <td>54</td>\n",
       "      <td>77644.0</td>\n",
       "      <td>103145.70</td>\n",
       "      <td>1.0</td>\n",
       "      <td>40.0</td>\n",
       "      <td>K1042</td>\n",
       "      <td>Berlin</td>\n",
       "      <td>1</td>\n",
       "    </tr>\n",
       "    <tr>\n",
       "      <th>2</th>\n",
       "      <td>55</td>\n",
       "      <td>44341.0</td>\n",
       "      <td>80565.16</td>\n",
       "      <td>0.0</td>\n",
       "      <td>37.0</td>\n",
       "      <td>K0382</td>\n",
       "      <td>Baden-Württemberg</td>\n",
       "      <td>1</td>\n",
       "    </tr>\n",
       "    <tr>\n",
       "      <th>3</th>\n",
       "      <td>49</td>\n",
       "      <td>67271.0</td>\n",
       "      <td>83949.89</td>\n",
       "      <td>0.0</td>\n",
       "      <td>42.0</td>\n",
       "      <td>K0498</td>\n",
       "      <td>Bayern</td>\n",
       "      <td>1</td>\n",
       "    </tr>\n",
       "    <tr>\n",
       "      <th>4</th>\n",
       "      <td>46</td>\n",
       "      <td>49832.0</td>\n",
       "      <td>93781.58</td>\n",
       "      <td>0.0</td>\n",
       "      <td>41.0</td>\n",
       "      <td>K0552</td>\n",
       "      <td>Hessen</td>\n",
       "      <td>1</td>\n",
       "    </tr>\n",
       "  </tbody>\n",
       "</table>\n",
       "</div>"
      ],
      "text/plain": [
       "   Alter  Einkommen      Preis  Geschlecht  Zeit KundeNr      Niederlassung  \\\n",
       "0     64    66894.0   88160.31         1.0  43.0   K0310             Bayern   \n",
       "1     54    77644.0  103145.70         1.0  40.0   K1042             Berlin   \n",
       "2     55    44341.0   80565.16         0.0  37.0   K0382  Baden-Württemberg   \n",
       "3     49    67271.0   83949.89         0.0  42.0   K0498             Bayern   \n",
       "4     46    49832.0   93781.58         0.0  41.0   K0552             Hessen   \n",
       "\n",
       "   Gekauft  \n",
       "0        1  \n",
       "1        1  \n",
       "2        1  \n",
       "3        1  \n",
       "4        1  "
      ]
     },
     "execution_count": 56,
     "metadata": {},
     "output_type": "execute_result"
    }
   ],
   "source": [
    "df_linear_regression.head()"
   ]
  },
  {
   "cell_type": "markdown",
   "id": "8b895abf",
   "metadata": {},
   "source": [
    "Da nun alle benötigten Daten in dem Dataframe df_linear_regression vorhanden sind, kann die lineare Regressrion mit der Unabhängigen Variable 'Gekauft' und den unabhängigen Variablen 'Alter', 'Geschlecht', 'Einkommen' sowie 'Zeit' durchgeführt werden kann."
   ]
  },
  {
   "cell_type": "code",
   "execution_count": 57,
   "id": "b70cc1cd",
   "metadata": {},
   "outputs": [
    {
     "name": "stdout",
     "output_type": "stream",
     "text": [
      "Optimization terminated successfully.\n",
      "         Current function value: 0.579018\n",
      "         Iterations 6\n"
     ]
    }
   ],
   "source": [
    "reg1 = smf.logit('Gekauft ~ Alter + Geschlecht + Einkommen + Zeit', data=df_linear_regression).fit()"
   ]
  },
  {
   "cell_type": "code",
   "execution_count": 58,
   "id": "c15ba74d",
   "metadata": {
    "scrolled": true
   },
   "outputs": [
    {
     "name": "stdout",
     "output_type": "stream",
     "text": [
      "                           Logit Regression Results                           \n",
      "==============================================================================\n",
      "Dep. Variable:                Gekauft   No. Observations:                 1995\n",
      "Model:                          Logit   Df Residuals:                     1990\n",
      "Method:                           MLE   Df Model:                            4\n",
      "Date:                Sat, 30 Dec 2023   Pseudo R-squ.:                  0.1577\n",
      "Time:                        15:09:29   Log-Likelihood:                -1155.1\n",
      "converged:                       True   LL-Null:                       -1371.4\n",
      "Covariance Type:            nonrobust   LLR p-value:                 2.521e-92\n",
      "==============================================================================\n",
      "                 coef    std err          z      P>|z|      [0.025      0.975]\n",
      "------------------------------------------------------------------------------\n",
      "Intercept     -2.4436      0.263     -9.275      0.000      -2.960      -1.927\n",
      "Alter          0.0181      0.007      2.638      0.008       0.005       0.032\n",
      "Geschlecht     0.2464      0.103      2.393      0.017       0.045       0.448\n",
      "Einkommen  -4.215e-05   5.43e-06     -7.762      0.000   -5.28e-05   -3.15e-05\n",
      "Zeit           0.1022      0.006     17.529      0.000       0.091       0.114\n",
      "==============================================================================\n"
     ]
    }
   ],
   "source": [
    "print(reg1.summary())"
   ]
  },
  {
   "cell_type": "markdown",
   "id": "5fac856a",
   "metadata": {},
   "source": [
    "# 18. Wie hoch ist die Wahrscheinlichkeit, dass ein 32-jähriger männlicher Kunde mit einem Einkommen von 30.000 Euro, der das Auto 30 Minuten lang getestet hat, eines unserer Modelle kauft? Wie hoch ist die Wahrscheinlichkeit, dass ein 51-jähriger männlicher Kunde mit einem Einkommen von 54.000 Euro, der das Auto 45 Minuten lang getestet hat, eines unserer Modelle kauft?"
   ]
  },
  {
   "cell_type": "code",
   "execution_count": 59,
   "id": "750bb6fe",
   "metadata": {},
   "outputs": [],
   "source": [
    "from statsmodels.api import add_constant"
   ]
  },
  {
   "cell_type": "markdown",
   "id": "2f7d91ca",
   "metadata": {},
   "source": [
    "Zunächst wird ein Datframe erzeugt, der die Ausprägungen der unabhängigen Variablen für die zwei zu prognostizierenden Fälle enthält. \n",
    "\n",
    "Index 0: 32-jähriger männlicher Kunde mit einem Einkommen von 30.000 Euro, der das Auto 30 Minuten lang getestet hat\n",
    "\n",
    "Index 1: 51-jähriger männlicher Kunde mit einem Einkommen von 54.000 Euro, der das Auto 45 Minuten lang getestet hat"
   ]
  },
  {
   "cell_type": "code",
   "execution_count": 60,
   "id": "aabb0c3e",
   "metadata": {},
   "outputs": [
    {
     "data": {
      "text/html": [
       "<div>\n",
       "<style scoped>\n",
       "    .dataframe tbody tr th:only-of-type {\n",
       "        vertical-align: middle;\n",
       "    }\n",
       "\n",
       "    .dataframe tbody tr th {\n",
       "        vertical-align: top;\n",
       "    }\n",
       "\n",
       "    .dataframe thead th {\n",
       "        text-align: right;\n",
       "    }\n",
       "</style>\n",
       "<table border=\"1\" class=\"dataframe\">\n",
       "  <thead>\n",
       "    <tr style=\"text-align: right;\">\n",
       "      <th></th>\n",
       "      <th>const</th>\n",
       "      <th>Alter</th>\n",
       "      <th>Einkommen</th>\n",
       "      <th>Geschlecht</th>\n",
       "      <th>Zeit</th>\n",
       "    </tr>\n",
       "  </thead>\n",
       "  <tbody>\n",
       "    <tr>\n",
       "      <th>0</th>\n",
       "      <td>1.0</td>\n",
       "      <td>32</td>\n",
       "      <td>30000</td>\n",
       "      <td>1</td>\n",
       "      <td>30</td>\n",
       "    </tr>\n",
       "    <tr>\n",
       "      <th>1</th>\n",
       "      <td>1.0</td>\n",
       "      <td>51</td>\n",
       "      <td>54000</td>\n",
       "      <td>1</td>\n",
       "      <td>45</td>\n",
       "    </tr>\n",
       "  </tbody>\n",
       "</table>\n",
       "</div>"
      ],
      "text/plain": [
       "   const  Alter  Einkommen  Geschlecht  Zeit\n",
       "0    1.0     32      30000           1    30\n",
       "1    1.0     51      54000           1    45"
      ]
     },
     "execution_count": 60,
     "metadata": {},
     "output_type": "execute_result"
    }
   ],
   "source": [
    "Prognose = pd.DataFrame({\n",
    "    'Alter': [32, 51],           \n",
    "    'Einkommen': [30000, 54000],\n",
    "    'Geschlecht' : [1, 1],\n",
    "    'Zeit' : [30, 45]\n",
    "})\n",
    "Prognose = add_constant(Prognose, has_constant='add')\n",
    "Prognose"
   ]
  },
  {
   "cell_type": "markdown",
   "id": "2f643f6a",
   "metadata": {},
   "source": [
    "Anschließend wird die Prognose durchgeführt: "
   ]
  },
  {
   "cell_type": "code",
   "execution_count": 61,
   "id": "88cb88e5",
   "metadata": {},
   "outputs": [
    {
     "name": "stdout",
     "output_type": "stream",
     "text": [
      "0    54.562163\n",
      "1    74.039598\n",
      "dtype: float64\n"
     ]
    }
   ],
   "source": [
    "Prognostizierte_Wahrscheinlichkeiten = reg1.predict(Prognose)\n",
    "print(Prognostizierte_Wahrscheinlichkeiten*100)"
   ]
  }
 ],
 "metadata": {
  "kernelspec": {
   "display_name": "Python 3 (ipykernel)",
   "language": "python",
   "name": "python3"
  },
  "language_info": {
   "codemirror_mode": {
    "name": "ipython",
    "version": 3
   },
   "file_extension": ".py",
   "mimetype": "text/x-python",
   "name": "python",
   "nbconvert_exporter": "python",
   "pygments_lexer": "ipython3",
   "version": "3.12.1"
  }
 },
 "nbformat": 4,
 "nbformat_minor": 5
}
