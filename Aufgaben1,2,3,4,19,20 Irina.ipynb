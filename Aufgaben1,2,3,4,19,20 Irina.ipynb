{
 "cells": [
  {
   "cell_type": "code",
   "execution_count": 10,
   "id": "901b36bc-bd99-4b76-bbe1-6ae497a2e831",
   "metadata": {},
   "outputs": [],
   "source": [
    "import pandas as pd\n",
    "import matplotlib.pyplot as plt\n",
    "import seaborn as sns"
   ]
  },
  {
   "cell_type": "code",
   "execution_count": 11,
   "id": "5c1bb847-b83a-4e81-957f-1ab213bcc122",
   "metadata": {},
   "outputs": [
    {
     "data": {
      "text/html": [
       "<div>\n",
       "<style scoped>\n",
       "    .dataframe tbody tr th:only-of-type {\n",
       "        vertical-align: middle;\n",
       "    }\n",
       "\n",
       "    .dataframe tbody tr th {\n",
       "        vertical-align: top;\n",
       "    }\n",
       "\n",
       "    .dataframe thead th {\n",
       "        text-align: right;\n",
       "    }\n",
       "</style>\n",
       "<table border=\"1\" class=\"dataframe\">\n",
       "  <thead>\n",
       "    <tr style=\"text-align: right;\">\n",
       "      <th></th>\n",
       "      <th>Alter</th>\n",
       "      <th>Einkommen</th>\n",
       "      <th>Preis</th>\n",
       "      <th>Geschlecht</th>\n",
       "      <th>Zeit</th>\n",
       "      <th>KundeNr</th>\n",
       "      <th>Niederlassung</th>\n",
       "    </tr>\n",
       "  </thead>\n",
       "  <tbody>\n",
       "    <tr>\n",
       "      <th>0</th>\n",
       "      <td>64</td>\n",
       "      <td>66894.0</td>\n",
       "      <td>88160.31</td>\n",
       "      <td>1.0</td>\n",
       "      <td>43.0</td>\n",
       "      <td>K0310</td>\n",
       "      <td>Bayern</td>\n",
       "    </tr>\n",
       "    <tr>\n",
       "      <th>1</th>\n",
       "      <td>54</td>\n",
       "      <td>77644.0</td>\n",
       "      <td>103145.70</td>\n",
       "      <td>1.0</td>\n",
       "      <td>40.0</td>\n",
       "      <td>K1042</td>\n",
       "      <td>Berlin</td>\n",
       "    </tr>\n",
       "    <tr>\n",
       "      <th>2</th>\n",
       "      <td>55</td>\n",
       "      <td>44341.0</td>\n",
       "      <td>80565.16</td>\n",
       "      <td>0.0</td>\n",
       "      <td>37.0</td>\n",
       "      <td>K0382</td>\n",
       "      <td>Baden-Württemberg</td>\n",
       "    </tr>\n",
       "    <tr>\n",
       "      <th>3</th>\n",
       "      <td>49</td>\n",
       "      <td>67271.0</td>\n",
       "      <td>83949.89</td>\n",
       "      <td>0.0</td>\n",
       "      <td>42.0</td>\n",
       "      <td>K0498</td>\n",
       "      <td>Bayern</td>\n",
       "    </tr>\n",
       "    <tr>\n",
       "      <th>4</th>\n",
       "      <td>46</td>\n",
       "      <td>49832.0</td>\n",
       "      <td>93781.58</td>\n",
       "      <td>0.0</td>\n",
       "      <td>41.0</td>\n",
       "      <td>K0552</td>\n",
       "      <td>Hessen</td>\n",
       "    </tr>\n",
       "  </tbody>\n",
       "</table>\n",
       "</div>"
      ],
      "text/plain": [
       "   Alter  Einkommen      Preis  Geschlecht  Zeit KundeNr      Niederlassung\n",
       "0     64    66894.0   88160.31         1.0  43.0   K0310             Bayern\n",
       "1     54    77644.0  103145.70         1.0  40.0   K1042             Berlin\n",
       "2     55    44341.0   80565.16         0.0  37.0   K0382  Baden-Württemberg\n",
       "3     49    67271.0   83949.89         0.0  42.0   K0498             Bayern\n",
       "4     46    49832.0   93781.58         0.0  41.0   K0552             Hessen"
      ]
     },
     "execution_count": 11,
     "metadata": {},
     "output_type": "execute_result"
    }
   ],
   "source": [
    "df = pd.read_csv(\"data/df_final.csv\")\n",
    "df.head()"
   ]
  },
  {
   "cell_type": "markdown",
   "id": "04b16b3f-a992-4dfd-997b-9c701fdaa989",
   "metadata": {},
   "source": [
    "# 1. Wie viele Autos wurden verkauft?"
   ]
  },
  {
   "cell_type": "code",
   "execution_count": 12,
   "id": "8b366780-4119-4450-b07e-a14efc9dc1fc",
   "metadata": {},
   "outputs": [
    {
     "data": {
      "text/plain": [
       "1104"
      ]
     },
     "execution_count": 12,
     "metadata": {},
     "output_type": "execute_result"
    }
   ],
   "source": [
    "df_autos = df[df[\"Preis\"] > 0]\n",
    "df_autos[\"Preis\"].count()"
   ]
  },
  {
   "cell_type": "markdown",
   "id": "19c3db84-262a-4246-ba23-16dd72a43d2a",
   "metadata": {},
   "source": [
    "\n",
    "# 2. Was ist der Höchst-, Mindest- und Durchschnittspreis der verkauften Autos?"
   ]
  },
  {
   "cell_type": "code",
   "execution_count": 13,
   "id": "1b11c7d1-a53f-4e60-8ae4-65e6cdc7cbab",
   "metadata": {},
   "outputs": [
    {
     "data": {
      "text/plain": [
       "21471.65"
      ]
     },
     "execution_count": 13,
     "metadata": {},
     "output_type": "execute_result"
    }
   ],
   "source": [
    "df_autos[\"Preis\"].min()"
   ]
  },
  {
   "cell_type": "code",
   "execution_count": 14,
   "id": "116c2f02-33a6-4b99-9615-df8372f81135",
   "metadata": {},
   "outputs": [
    {
     "data": {
      "text/plain": [
       "165482.31"
      ]
     },
     "execution_count": 14,
     "metadata": {},
     "output_type": "execute_result"
    }
   ],
   "source": [
    "df_autos[\"Preis\"].max()"
   ]
  },
  {
   "cell_type": "code",
   "execution_count": 19,
   "id": "88bf09c4-a3bf-4eef-83b6-710b883af963",
   "metadata": {},
   "outputs": [
    {
     "data": {
      "text/plain": [
       "88975.2"
      ]
     },
     "execution_count": 19,
     "metadata": {},
     "output_type": "execute_result"
    }
   ],
   "source": [
    "df_autos[\"Preis\"].mean().round(2)"
   ]
  },
  {
   "cell_type": "markdown",
   "id": "2ef8b26f-7f88-41c0-b8ea-586d5963493b",
   "metadata": {},
   "source": [
    "# 3. Wie hoch war der Gesamtumsatz?"
   ]
  },
  {
   "cell_type": "code",
   "execution_count": 21,
   "id": "7e0589e1-9969-486b-b9d4-e6be13b1e3d9",
   "metadata": {},
   "outputs": [
    {
     "data": {
      "text/plain": [
       "98228619.38"
      ]
     },
     "execution_count": 21,
     "metadata": {},
     "output_type": "execute_result"
    }
   ],
   "source": [
    "df_autos[\"Preis\"].sum().round(2)"
   ]
  },
  {
   "cell_type": "markdown",
   "id": "648f659d-435c-4d13-b7f5-ed792a79de00",
   "metadata": {},
   "source": [
    "# 4. Wie viele Autos wurden pro Bundesland verkauft?\n"
   ]
  },
  {
   "cell_type": "code",
   "execution_count": 17,
   "id": "5cc689d1-d491-40d8-8263-95353f03497c",
   "metadata": {},
   "outputs": [
    {
     "data": {
      "text/plain": [
       "Niederlassung\n",
       "Baden-Württemberg      205\n",
       "Bayern                 188\n",
       "Nordrhein-Westfalen    175\n",
       "Berlin                 126\n",
       "Hessen                  96\n",
       "Niedersachsen           96\n",
       "Sachsen                 89\n",
       "Thüringen               49\n",
       "Hamburg                 43\n",
       "Brandenburg             37\n",
       "Name: count, dtype: int64"
      ]
     },
     "execution_count": 17,
     "metadata": {},
     "output_type": "execute_result"
    }
   ],
   "source": [
    "niederlassung_count = df_autos['Niederlassung'].value_counts()\n",
    "niederlassung_count"
   ]
  },
  {
   "cell_type": "code",
   "execution_count": 18,
   "id": "c78b233b-c19d-4fb0-936a-ef8be25b9007",
   "metadata": {},
   "outputs": [
    {
     "data": {
      "image/png": "[encoded data removed]",
      "text/plain": [
       "<Figure size 640x480 with 1 Axes>"
      ]
     },
     "metadata": {},
     "output_type": "display_data"
    }
   ],
   "source": [
    "niederlassung_count_plot = sns.barplot(x=niederlassung_count.index,\n",
    "                                       y=niederlassung_count.values,\n",
    "                                       hue=niederlassung_count.index)\n",
    "_ = plt.setp(niederlassung_count_plot.get_xticklabels(), rotation=90)\n",
    "plt.ylabel('Anzahl')\n",
    "_ = plt.title('verkaufte Autos pro Bundesland')"
   ]
  },
  {
   "cell_type": "markdown",
   "id": "b4c6c475-ac80-4e3d-9fbc-15edaae78a59",
   "metadata": {},
   "source": [
    "# 19. Auf welche Probleme sind Sie bei der Zusammenführung des Datensatzes gestoßen? Stellen Sie die Operationen vor, die Sie zum Zusammenführen und Bereinigen der Daten durchgeführt haben."
   ]
  },
  {
   "cell_type": "markdown",
   "id": "c5a679fd-e322-4ef6-8621-b1d9043eccaa",
   "metadata": {},
   "source": [
    "- Ausreißer\n",
    "  - bei kunden_df:\n",
    "    - Alter: 100 und 120 sind nicht realistische Alter für Autokäufer. Die nächste Person im Datensatz ist 70 Jahre alt. Die beiden       Einträge werden durch den Modalwert ersetzt.\n",
    "      - `age_mode = cleaned_kunden_df.loc[cleaned_kunden_df['Alter'] < 70, 'Alter'].mode()[0]`\n",
    "      - `cleaned_kunden_df.loc[cleaned_kunden_df['Alter'] > 70, 'Alter'] = age_mode`\n",
    "    - Einkommen: 1.000.000.000 (1 Mrd) und Einkommen 0 sind unrealistische Jahresgehälter, weshalb es durch den Median ersetzt wird (Modalwert nicht möglich, da alle Einkommensangaben einzigartig sind).\n",
    "      - `income_median = cleaned_kunden_df.loc[(cleaned_kunden_df['Einkommen'] < 1000000) & (cleaned_kunden_df['Einkommen'] != 0), 'Einkommen'].median()`\n",
    "      - `cleaned_kunden_df.loc[cleaned_kunden_df['Einkommen'] > 1000000, 'Einkommen'] = income_median`\n",
    "      - `cleaned_kunden_df.loc[cleaned_kunden_df['Einkommen'] == 0, 'Einkommen'] = income_median`\n",
    "- fehlende Daten\n",
    "  - kunden_df enthält 5 Reihen, wo das Geschlecht nicht ausgefüllt ist (isnull())\n",
    "    - `cleaned_kunden_df = kunden_df.fillna(1.0)`\n",
    "- falsche Daten\n",
    "  - kunden_df enthält einen Reihe, wo das Gehalt negativ ist. Es wird davon ausgegangen, dass es sich hierbei um einen Tippfehler handelt\n",
    "    - `cleaned_kunden_df.loc[cleaned_kunden_df['Einkommen'] < 0, 'Einkommen'] *= -1` \n",
    "- nicht normalisierte Daten\n",
    "  - geo_df enthält Unstimmigkeiten in der Spalte Niederlassung:\n",
    "    - Düsseldorf, NRW und Nordrhein-Westfalen beschreiben das gleiche Bundesland, sind aber unterschiedlich angegeben.\n",
    "      - `cleaned_geo_df.loc[cleaned_geo_df['Niederlassung'] == 'NRW', 'Niederlassung'] = 'Nordrhein-Westfalen'`\n",
    "      - `cleaned_geo_df.loc[cleaned_geo_df['Niederlassung'] == 'Düsseldorf', 'Niederlassung'] = 'Nordrhein-Westfalen'`\n",
    "    - Berlin, BERLIN, Berlin-Charlottenburg und Berlin-Mitte beschreiben ebenfalls das gleiche Bundesland.\n",
    "      - `cleaned_geo_df.loc[cleaned_geo_df['Niederlassung'] == 'BERLIN', 'Niederlassung'] = 'Berlin'`\n",
    "      - `cleaned_geo_df.loc[cleaned_geo_df['Niederlassung'].str.startswith('Berlin-'), 'Niederlassung'] = 'Berlin'`\n",
    "- Inkonsequente Datenformate\n",
    "  - Einkommen: ist in kunden_df float64, in besucher_df object\n",
    "  - Geschlecht: ist in kunden_df float64, in besucher_df int64\n",
    "  - Zeit: ist in kunden_df float64, in besucher_df object\n",
    "  - `cleaned_besucher_df['Einkommen'] = cleaned_besucher_df['Einkommen'].str.replace(',', '.')`\n",
    "  - `cleaned_besucher_df['Zeit'] = cleaned_besucher_df['Zeit'].str.replace(',', '.')`\n",
    "  - `cleaned_besucher_df = cleaned_besucher_df.astype({'Geschlecht': 'float64', 'Einkommen': 'float64', 'Zeit': 'float64'})`\n",
    "- Zusammenführen\n",
    "  - Die Daten werden mithilfe eines Outer Joins zusammengeführt. Die NaN Werte, die dabei für die Besucher in der Spalte 'Preis' entstehen, werden im Anschluss durch 0 ersetzt.\n",
    "  - `combined_df = combined_df.merge(cleaned_besucher_df, how='outer', on=['KundeNr', 'Alter', 'Einkommen', 'Geschlecht', 'Zeit'])`\n",
    "  - `combined_df = combined_df.merge(cleaned_geo_df, how='outer', on='KundeNr')`\n",
    "  - `combined_df = combined_df.fillna(0)`\n",
    "\n",
    "![Visualisierung der Merge Typen in Pandas](https://miro.medium.com/v2/resize:fit:400/format:webp/1*9eH1_7VbTZPZd9jBiGIyNA.png)\n",
    "\n",
    "Für eine ausführliche Betrachtung des Data Cleanings, siehe Datei : data_cleaning.ipynb\n"
   ]
  },
  {
   "cell_type": "markdown",
   "id": "ca0797b4-8cd3-400c-a2fb-44da4b10f72a",
   "metadata": {},
   "source": [
    "# 20. Welche Vorschläge würden Sie der Kundenabteilung für die Umfrage im nächsten Jahr machen? Welche zusätzlichen Informationen sollten gesammelt werden? Formulieren Sie zwei Vorschläge."
   ]
  },
  {
   "cell_type": "markdown",
   "id": "078a6ac4-65b4-4eea-a359-95d3eecfcc87",
   "metadata": {},
   "source": [
    "- clean data:\n",
    "  - alle Daten im richtigen Format anlegen bzw. übereinstimmend über Dateien hinweg (z.B. feste Feldformatierung)\n",
    "  - bei Niederlassung/Bundesländern nur vorbestimmte Antworten zulassen (z.B. über ein Dropdown Menü)\n",
    "  - Regeln für Dateneingabe einführen (z.B. Einkommen muss > 0 sein)\n",
    "- für Daten:\n",
    "  - welches Modell wurde gekauft (Kundensegmentierung)  \n",
    "  - welches Modell wurde angeschaut/getestet (Conversion Rate) \n",
    "  - wodurch auf Elektratuto AG aufmerksam geworden (Marketing)\n",
    "  "
   ]
  },
  {
   "cell_type": "markdown",
   "id": "91b61c76",
   "metadata": {},
   "source": []
  }
 ],
 "metadata": {
  "kernelspec": {
   "display_name": "Python 3 (ipykernel)",
   "language": "python",
   "name": "python3"
  },
  "language_info": {
   "codemirror_mode": {
    "name": "ipython",
    "version": 3
   },
   "file_extension": ".py",
   "mimetype": "text/x-python",
   "name": "python",
   "nbconvert_exporter": "python",
   "pygments_lexer": "ipython3",
   "version": "3.12.1"
  }
 },
 "nbformat": 4,
 "nbformat_minor": 5
}
